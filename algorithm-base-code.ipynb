{
 "cells": [
  {
   "attachments": {},
   "cell_type": "markdown",
   "metadata": {},
   "source": [
    "Linked Lists:\n",
    "- Algorithms:\n",
    "  - Tranversal (for insertion, deletion, reversa;)\n",
    "  - Hare & Tortoise (for cycle)"
   ]
  },
  {
   "cell_type": "code",
   "execution_count": null,
   "metadata": {},
   "outputs": [],
   "source": [
    "#Transversal\n",
    "class Node():\n",
    "    def __init__(self, val=0, next=None):\n",
    "        self.val = val\n",
    "        self.next = next\n",
    "\n",
    "def transverse_linked_lists(head):\n",
    "    temp = head\n",
    "    while temp and temp.next:\n",
    "        temp = temp.next\n",
    "    return head\n",
    "\n",
    "def hare_tortoise(head):\n",
    "    slow = head\n",
    "    fast = head\n",
    "    while fast and fast.next:\n",
    "        slow = slow.next\n",
    "        fast = fast.next.next\n",
    "\n",
    "    return head"
   ]
  },
  {
   "attachments": {},
   "cell_type": "markdown",
   "metadata": {},
   "source": [
    "Stacks and Queues\n",
    "- Stacks: add/remove element from end of array\n",
    "- Queues: remove element from front of array, add to back of array"
   ]
  },
  {
   "cell_type": "code",
   "execution_count": null,
   "metadata": {},
   "outputs": [],
   "source": [
    "class Stack:\n",
    "    def __init__(self, arr):\n",
    "        self.arr = arr\n",
    "    def push(self, elem):\n",
    "        self.arr.append(elem)\n",
    "    def pop(self):\n",
    "        return self.arr.pop()\n",
    "\n",
    "from collections import deque\n",
    "class Queue:\n",
    "    def __init__(self, arr):\n",
    "        self.arr = arr\n",
    "    def push(self, elem):\n",
    "        self.arr.append(elem)\n",
    "    def pop(self, elem):\n",
    "        return self.arr.popleft()"
   ]
  },
  {
   "attachments": {},
   "cell_type": "markdown",
   "metadata": {},
   "source": [
    "Matrices\n",
    "- Find coordinate of element in matrix"
   ]
  },
  {
   "cell_type": "code",
   "execution_count": null,
   "metadata": {},
   "outputs": [],
   "source": [
    "def find_element_within_matrix(matrix):\n",
    "    row_index = 0\n",
    "    col_index = 0\n",
    "    for row in matrix:\n",
    "        for col in matrix[0]:\n",
    "            row_index = row\n",
    "            col_index = col\n",
    "            \n",
    "    return (row_index, col_index)"
   ]
  },
  {
   "attachments": {},
   "cell_type": "markdown",
   "metadata": {},
   "source": [
    "Fibbonacci & Dynamic Programming\n",
    "    - Calculate fibbonacci with dynamic programming (cache)"
   ]
  },
  {
   "cell_type": "code",
   "execution_count": null,
   "metadata": {},
   "outputs": [],
   "source": [
    "def fib(n, cache={}):\n",
    "    if n < 2:\n",
    "        return n\n",
    "    elif not cache[n]:\n",
    "        cache[n] = fib(n-1) + fib(n-2)\n",
    "    return cache[n]"
   ]
  },
  {
   "attachments": {},
   "cell_type": "markdown",
   "metadata": {},
   "source": [
    "Two Pointers\n",
    "- Check an array from front and back\n",
    "  - Palindrome, area"
   ]
  },
  {
   "cell_type": "code",
   "execution_count": null,
   "metadata": {},
   "outputs": [],
   "source": [
    "def two_pointers(arr):\n",
    "    low = 0\n",
    "    high = len(arr)-1\n",
    "    while low <= high:\n",
    "        low += 1\n",
    "        high -= 1"
   ]
  }
 ],
 "metadata": {
  "language_info": {
   "name": "python"
  },
  "orig_nbformat": 4
 },
 "nbformat": 4,
 "nbformat_minor": 2
}
